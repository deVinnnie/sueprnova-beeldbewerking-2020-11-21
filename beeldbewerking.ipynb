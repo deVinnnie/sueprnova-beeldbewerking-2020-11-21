{
 "cells": [
  {
   "cell_type": "code",
   "execution_count": null,
   "metadata": {},
   "outputs": [],
   "source": [
    "from PIL import Image\n",
    "from IPython.display import display"
   ]
  },
  {
   "cell_type": "markdown",
   "metadata": {},
   "source": [
    "# Python Cheat Sheet"
   ]
  },
  {
   "cell_type": "code",
   "execution_count": null,
   "metadata": {},
   "outputs": [],
   "source": [
    "print(\"Hello Universe\")\n",
    "talkingToWorld = True\n",
    "if talkingToWorld:\n",
    "    print(\"Hello World\")\n",
    "else:\n",
    "    print(\"Hello..\")\n",
    "    \n",
    "for x in range(0, 10):\n",
    "    print(x)\n",
    "    \n",
    "array = [1, 1, 2, 3, 5, 8, 13]\n",
    "\n",
    "print(array[0])\n",
    "print(array[6])\n",
    "len(array)\n",
    "\n",
    "array[0] = 42\n",
    "print(array)\n",
    "\n",
    "for x in range(0, len(array)):\n",
    "    print(\"Element {} is {}\".format(x, array[x]))"
   ]
  },
  {
   "cell_type": "markdown",
   "metadata": {},
   "source": [
    "# Pixels"
   ]
  },
  {
   "cell_type": "code",
   "execution_count": null,
   "metadata": {},
   "outputs": [],
   "source": [
    "afbeelding = Image.open(\"neowise.jpg\")\n",
    "display(afbeelding)"
   ]
  },
  {
   "cell_type": "markdown",
   "metadata": {},
   "source": [
    "![](raster-graphics.svg)\n",
    "\n",
    "`afbeelding.size[0]` Aantal pixels horizontaal\n",
    "\n",
    "`afbeelding.size[1]` Aantal pixels verticaal\n",
    "\n",
    "`afbeelding.getpixel((x,y))`\n",
    "\n",
    "`afbeelding.putpixel((x,y), nieuweWaarde)`\n",
    "\n",
    "* x = kolom (horizontaal)\n",
    "* y = rij (verticaal)\n",
    "* Is een getal tussen 0 en 255\n",
    "* 0 ==> zwart\n",
    "* 255 ==> wit\n",
    "\n",
    "## Waarom maar 256 tinten?\n",
    "\n",
    "Elke pixel wordt opgeslagen in 8 bits. Een bit is een '0' of een '1'. \n",
    "Er zijn 2^8 permutaties (mogelijke waarden die uniek zijn). \n",
    "2^8 is gelijk aan 256.\n",
    "\n",
    "8 bits per pixel is de meest gebruikte waarde.\n",
    "Als we 10 bits per pixel nemen dan kunnen 4 keer meer 'tinten' onderscheiden (2^10 = 1024).\n",
    "Fotografen geven daarom de voorkeur om hun camera zogenaamde RAW files te laten generen. \n",
    "Die bevatten de ruwe gegevens van de sensor en geven de fotograaf meer speelruimte bij het bewerken van het beeld.\n",
    "Nadeel van meer bits te gebruiken is wel dat de bestanden meer plaats innemen op de harde schijf.\n",
    "\n",
    "![rgb](240px-AdditiveColor.svg.png)\n",
    "\n",
    "## Hoe worden kleuren foto's opgeslagen?\n",
    "\n",
    "Kleuren foto's hebben een rode, groene, en blauwe component voor elke pixel.\n",
    "- `(255, 0, 0)` stelt een rode pixel voor.\n",
    "- `(255, 255, 0)` is een gele pixel.\n",
    "- `(255, 255, 255)` is een witte pixel.\n",
    "\n",
    "Anders gezegd: Een kleuren foto kan je voorstellen als de combinatie van 3 zwart-wit foto's.\n",
    "Om het simpel te houden zullen we vandaag alleen met zwart-wit foto's werken.\n",
    "\n",
    "<a title=\"© Nevit Dilmen, CC BY-SA 3.0 &lt;https://creativecommons.org/licenses/by-sa/3.0&gt;, via Wikimedia Commons\" href=\"https://commons.wikimedia.org/wiki/File:Beyoglu_4671_tricolor.png\"><img width=\"512\" alt=\"Beyoglu 4671 tricolor\" src=\"https://upload.wikimedia.org/wikipedia/commons/thumb/3/33/Beyoglu_4671_tricolor.png/512px-Beyoglu_4671_tricolor.png\"></a>"
   ]
  },
  {
   "cell_type": "code",
   "execution_count": null,
   "metadata": {},
   "outputs": [],
   "source": [
    "afbeelding = Image.open(\"neowise.jpg\")\n",
    "\n",
    "pixel = afbeelding.getpixel((150, 150))\n",
    "print(pixel)\n",
    "\n",
    "afbeelding.putpixel((150, 150), 255)\n",
    "pixel = afbeelding.getpixel((150, 150))\n",
    "print(pixel)\n",
    "\n",
    "size = afbeelding.size\n",
    "breedte = size[0]\n",
    "hoogte = size[1]\n",
    "\n",
    "print(breedte)\n",
    "print(hoogte)"
   ]
  },
  {
   "cell_type": "markdown",
   "metadata": {},
   "source": [
    "## Uitdaging 1\n",
    "\n",
    "* Hoeveel pixels zitten er in de onderstaande afbeelding?\n",
    "* Print voor elke hoek de waarde van de pixel uit (links-boven, links-onder, rechts-boven, rechts-onder)."
   ]
  },
  {
   "cell_type": "code",
   "execution_count": null,
   "metadata": {},
   "outputs": [],
   "source": [
    "afbeelding = Image.open(\"squares.png\")\n",
    "display(afbeelding)\n",
    "\n",
    "#TODO"
   ]
  },
  {
   "cell_type": "markdown",
   "metadata": {},
   "source": [
    "## Uitdaging 2: Inverteren\n",
    "\n",
    "* Inverteer alle pixels in de afbeelding. Dus: Zwart wordt wit, wit wordt zwart"
   ]
  },
  {
   "cell_type": "code",
   "execution_count": null,
   "metadata": {},
   "outputs": [],
   "source": [
    "afbeelding = Image.open(\"neowise.jpg\")\n",
    "print(\"Voor\")\n",
    "display(afbeelding)\n",
    "\n",
    "#TODO\n",
    "\n",
    "print(\"Na\")\n",
    "display(afbeelding)"
   ]
  },
  {
   "cell_type": "markdown",
   "metadata": {},
   "source": [
    "# Histogrammen\n",
    "\n",
    "<img src=\"histogram.png\" width=\"300\"/>\n",
    "\n",
    "<img src=\"image-to-histogram.png\" width=\"300\"/>"
   ]
  },
  {
   "cell_type": "markdown",
   "metadata": {},
   "source": [
    "## Uitdaging 3 Bouw het histogram!"
   ]
  },
  {
   "cell_type": "code",
   "execution_count": null,
   "metadata": {},
   "outputs": [],
   "source": [
    "afbeelding = Image.open(\"mystery.jpg\")\n",
    "\n",
    "size = afbeelding.size\n",
    "breedte = size[0]\n",
    "hoogte = size[1]\n",
    "\n",
    "histogram = [0] * 255\n",
    "\n",
    "#TODO"
   ]
  },
  {
   "cell_type": "markdown",
   "metadata": {},
   "source": [
    "# Contrast\n",
    "\n",
    "Laag contrast = Smal histogram\n",
    "\n",
    "Oorzaken:\n",
    "\n",
    "* Te lang of te kort belichting\n",
    "* Foto van een witte muur\n",
    "* Fotograaf vergat het lensdopje van de lens te halen.\n",
    "* Een bestaande foto werd bewerkt voor gebruik in een workshop over beeldbewerking.\n",
    "\n",
    "We kunnen de afbeelding bewerken om het contrast te verbeteren.\n",
    "Let wel: Magie bestaat niet. De bewerkte afbeelding bevat evenveel informatie als het origineel.\n",
    "\n",
    "Stappenplan:\n",
    "\n",
    "* Stap 1: Zoek de min en max grijstint die aanwezig is in het histogram\n",
    "\n",
    "<img src=\"histogram-min-max.png\" width=\"300\"/>\n",
    "\n",
    "* Stap 2: Verschuif het histogram \n",
    "\n",
    "<img src=\"histogram-move-left.png\" width=\"300\"/>\n",
    "\n",
    "* Stap 3: Stretch het histogram\n",
    "\n",
    "<img src=\"histogram-stretch.png\" width=\"300\"/>\n",
    "\n",
    "* Stap 4: Reflecteer over wat je juist gedaan hebt.\n",
    "\n",
    "<img src=\"histogram-final.png\" width=\"300\"/>"
   ]
  },
  {
   "cell_type": "markdown",
   "metadata": {},
   "source": [
    "## Uitdaging 4: Contrast stretch"
   ]
  },
  {
   "cell_type": "code",
   "execution_count": null,
   "metadata": {},
   "outputs": [],
   "source": [
    "min = 0\n",
    "\n",
    "#TODO: Bepaal min\n",
    "\n",
    "print(min)"
   ]
  },
  {
   "cell_type": "code",
   "execution_count": null,
   "metadata": {},
   "outputs": [],
   "source": [
    "#TODO: Neem voor elke pixel het verschil tussen de huidige waarde en de min waarde.\n",
    "\n",
    "display(afbeelding)"
   ]
  },
  {
   "cell_type": "code",
   "execution_count": null,
   "metadata": {},
   "outputs": [],
   "source": [
    "max = 0\n",
    "# TODO: Bepaal max\n",
    "\n",
    "print(max)"
   ]
  },
  {
   "cell_type": "code",
   "execution_count": null,
   "metadata": {},
   "outputs": [],
   "source": [
    "# TODO: Vermenigvuldig elke pixel met 255 / (max - min)\n",
    "\n",
    "display(afbeelding)"
   ]
  },
  {
   "cell_type": "code",
   "execution_count": null,
   "metadata": {},
   "outputs": [],
   "source": []
  }
 ],
 "metadata": {
  "kernelspec": {
   "display_name": "Python 3",
   "language": "python",
   "name": "python3"
  },
  "language_info": {
   "codemirror_mode": {
    "name": "ipython",
    "version": 3
   },
   "file_extension": ".py",
   "mimetype": "text/x-python",
   "name": "python",
   "nbconvert_exporter": "python",
   "pygments_lexer": "ipython3",
   "version": "3.8.6"
  }
 },
 "nbformat": 4,
 "nbformat_minor": 4
}
