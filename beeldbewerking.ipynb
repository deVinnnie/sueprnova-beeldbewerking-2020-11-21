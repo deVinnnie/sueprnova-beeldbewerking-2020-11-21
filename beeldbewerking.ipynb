{
 "cells": [
  {
   "cell_type": "code",
   "execution_count": 1,
   "metadata": {},
   "outputs": [],
   "source": [
    "from PIL import Image\n",
    "from IPython.display import display"
   ]
  },
  {
   "cell_type": "markdown",
   "metadata": {},
   "source": [
    "# 0 Python Cheat Sheet"
   ]
  },
  {
   "cell_type": "code",
   "execution_count": 2,
   "metadata": {},
   "outputs": [
    {
     "name": "stdout",
     "output_type": "stream",
     "text": [
      "Hello Universe\n",
      "Hello World\n",
      "0\n",
      "1\n",
      "2\n",
      "3\n",
      "4\n",
      "5\n",
      "6\n",
      "7\n",
      "8\n",
      "9\n",
      "1\n",
      "13\n",
      "[42, 1, 2, 3, 5, 8, 13]\n",
      "Element 0 is 42\n",
      "Element 1 is 1\n",
      "Element 2 is 2\n",
      "Element 3 is 3\n",
      "Element 4 is 5\n",
      "Element 5 is 8\n",
      "Element 6 is 13\n"
     ]
    }
   ],
   "source": [
    "print(\"Hello Universe\")\n",
    "talkingToWorld = True\n",
    "if talkingToWorld:\n",
    "    print(\"Hello World\")\n",
    "else:\n",
    "    print(\"Hello..\")\n",
    "    \n",
    "for x in range(0, 10):\n",
    "    print(x)\n",
    "    \n",
    "array = [1, 1, 2, 3, 5, 8, 13]\n",
    "\n",
    "print(array[0])\n",
    "print(array[6])\n",
    "len(array)\n",
    "\n",
    "array[0] = 42\n",
    "print(array)\n",
    "\n",
    "for x in range(0, len(array)):\n",
    "    print(\"Element {} is {}\".format(x, array[x]))"
   ]
  },
  {
   "cell_type": "markdown",
   "metadata": {},
   "source": [
    "# 0 PIL Cheat Sheet"
   ]
  },
  {
   "cell_type": "code",
   "execution_count": 3,
   "metadata": {},
   "outputs": [
    {
     "data": {
      "image/png": "[encoded data removed]",
      "text/plain": [
       "<PIL.JpegImagePlugin.JpegImageFile image mode=L size=183x240 at 0x7FD4A03E2760>"
      ]
     },
     "metadata": {},
     "output_type": "display_data"
    }
   ],
   "source": [
    "image = Image.open(\"mystery.jpg\")\n",
    "display(image)\n",
    "size = image.size\n",
    "width = size[0]\n",
    "height = size[1]\n",
    "image.getpixel((0, 1))\n",
    "image.putpixel((0, 1), 255)"
   ]
  }
 ],
 "metadata": {
  "kernelspec": {
   "display_name": "Python 3",
   "language": "python",
   "name": "python3"
  },
  "language_info": {
   "codemirror_mode": {
    "name": "ipython",
    "version": 3
   },
   "file_extension": ".py",
   "mimetype": "text/x-python",
   "name": "python",
   "nbconvert_exporter": "python",
   "pygments_lexer": "ipython3",
   "version": "3.8.6"
  }
 },
 "nbformat": 4,
 "nbformat_minor": 4
}
